{
 "cells": [
  {
   "cell_type": "markdown",
   "id": "f567b79f",
   "metadata": {},
   "source": [
    "## Input Methods for Competitive Programming in Python!"
   ]
  },
  {
   "cell_type": "markdown",
   "id": "6716c3d8",
   "metadata": {},
   "source": [
    "### Taking a Single Integer as Input"
   ]
  },
  {
   "cell_type": "code",
   "execution_count": null,
   "id": "77b31331",
   "metadata": {},
   "outputs": [],
   "source": [
    "n = int(input())\n",
    "print(type(n))"
   ]
  },
  {
   "cell_type": "markdown",
   "id": "c12292bd",
   "metadata": {},
   "source": [
    "### Taking a Single String as Input"
   ]
  },
  {
   "cell_type": "code",
   "execution_count": null,
   "id": "315288c4",
   "metadata": {},
   "outputs": [],
   "source": [
    "n = input()\n",
    "print(type(n))"
   ]
  },
  {
   "cell_type": "markdown",
   "id": "84630c76",
   "metadata": {},
   "source": [
    "### Taking Multiple Space-Separated Integers as Input"
   ]
  },
  {
   "cell_type": "code",
   "execution_count": null,
   "id": "9d726e3b",
   "metadata": {},
   "outputs": [],
   "source": [
    "'''\n",
    "a b c\n",
    "1 2 3\n",
    "'''\n",
    "a, b, c = map(int, input().split())\n",
    "print(a, b, c)"
   ]
  },
  {
   "cell_type": "markdown",
   "id": "52282368",
   "metadata": {},
   "source": [
    "### Taking Infinite Space-Separated Integers as Input"
   ]
  },
  {
   "cell_type": "code",
   "execution_count": null,
   "id": "62ba29e1",
   "metadata": {},
   "outputs": [],
   "source": [
    "'''\n",
    "a b c d e f ...\n",
    "1 2 3 4 5 6 ...\n",
    "'''\n",
    "all = [int(i) for i in input().split()]\n",
    "print(all)"
   ]
  },
  {
   "cell_type": "markdown",
   "id": "fa3a8236",
   "metadata": {},
   "source": [
    "### Taking Finite/Infinite Inputs for a Single Test Case"
   ]
  },
  {
   "cell_type": "code",
   "execution_count": null,
   "id": "3f86a4ed",
   "metadata": {},
   "outputs": [],
   "source": [
    "'''\n",
    "2  ---> no. of elements in single test case\n",
    "1 2\n",
    "'''\n",
    "n = int(input())  # no. of elements\n",
    "all = [int(i) for i in input().split()]\n",
    "print(all)"
   ]
  },
  {
   "cell_type": "markdown",
   "id": "a9c85bc6",
   "metadata": {},
   "source": [
    "### Taking Multiple Test Cases with a Single Integer Input Each"
   ]
  },
  {
   "cell_type": "code",
   "execution_count": null,
   "id": "10a95523",
   "metadata": {},
   "outputs": [],
   "source": [
    "'''\n",
    "2  ---> no. of test cases\n",
    "1\n",
    "3\n",
    "'''\n",
    "t = int(input())  # no. of test cases\n",
    "for _ in range(t):\n",
    "    x = int(input())\n",
    "    print(x)"
   ]
  },
  {
   "cell_type": "markdown",
   "id": "100dfb91",
   "metadata": {},
   "source": [
    "### Taking Multiple Test Cases with Multiple Integers per Test"
   ]
  },
  {
   "cell_type": "code",
   "execution_count": null,
   "id": "2fd5c372",
   "metadata": {},
   "outputs": [],
   "source": [
    "'''\n",
    "2\n",
    "3\n",
    "1 2 3\n",
    "4\n",
    "5 6 7 8\n",
    "'''\n",
    "t = int(input())  # no. of test cases\n",
    "for _ in range(t):\n",
    "    n = int(input())  # no. of elements\n",
    "    all = [int(i) for i in input().split()]\n",
    "    print(all)"
   ]
  },
  {
   "cell_type": "markdown",
   "id": "46c95ee0",
   "metadata": {},
   "source": [
    "### Taking Multiple Test Cases with Multiple Lines of Integers"
   ]
  },
  {
   "cell_type": "code",
   "execution_count": null,
   "id": "e295a634",
   "metadata": {},
   "outputs": [],
   "source": [
    "'''\n",
    "4\n",
    "1 2 3 4\n",
    "2 3 4 5\n",
    "3 4 4 5\n",
    "5 4 3 2\n",
    "'''\n",
    "t = int(input())  # no. of test cases\n",
    "for _ in range(t):\n",
    "    all = [int(i) for i in input().split()]\n",
    "    print(all)"
   ]
  },
  {
   "cell_type": "markdown",
   "id": "b2de692f",
   "metadata": {},
   "source": [
    "### Special Case"
   ]
  },
  {
   "cell_type": "code",
   "execution_count": null,
   "id": "4470108c",
   "metadata": {
    "vscode": {
     "languageId": "plaintext"
    }
   },
   "outputs": [],
   "source": [
    "'''\n",
    "4\n",
    "4 3\n",
    "5 3 1 2\n",
    "3 2\n",
    "1 3 4\n",
    "4 2\n",
    "2 1 2 4\n",
    "5 6\n",
    "1 2 3 4 5\n",
    "'''\n",
    "\n",
    "t = int(input())\n",
    "\n",
    "for _ in range(t):\n",
    "    x, y = map(int, input().split())\n",
    "    all = list(map(int, input().split()))\n",
    "    print(all)"
   ]
  },
  {
   "cell_type": "code",
   "execution_count": null,
   "id": "cc4b5d88",
   "metadata": {
    "vscode": {
     "languageId": "plaintext"
    }
   },
   "outputs": [],
   "source": []
  }
 ],
 "metadata": {
  "language_info": {
   "name": "python"
  }
 },
 "nbformat": 4,
 "nbformat_minor": 5
}
